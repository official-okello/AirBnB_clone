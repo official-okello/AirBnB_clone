{
  "nbformat": 4,
  "nbformat_minor": 0,
  "metadata": {
    "colab": {
      "provenance": [],
      "authorship_tag": "ABX9TyNGW5eqT2LjerUvEm0lTIm9",
      "include_colab_link": true
    },
    "kernelspec": {
      "name": "python3",
      "display_name": "Python 3"
    },
    "language_info": {
      "name": "python"
    }
  },
  "cells": [
    {
      "cell_type": "markdown",
      "metadata": {
        "id": "view-in-github",
        "colab_type": "text"
      },
      "source": [
        "<a href=\"https://colab.research.google.com/github/official-okello/AirBnB_clone/blob/master/File_Handling_Checkpoint.ipynb\" target=\"_parent\"><img src=\"https://colab.research.google.com/assets/colab-badge.svg\" alt=\"Open In Colab\"/></a>"
      ]
    },
    {
      "cell_type": "code",
      "execution_count": null,
      "metadata": {
        "colab": {
          "base_uri": "https://localhost:8080/"
        },
        "id": "OwoVDaA4oAFk",
        "outputId": "0042064c-2df8-4a2f-f184-754322a594d9"
      },
      "outputs": [
        {
          "output_type": "stream",
          "name": "stdout",
          "text": [
            "The mean of Loan Amounts is 146.41216216216216\n",
            "The median of Loan Amounts is 128.0\n",
            "The standard deviation of Loan Amounts is 85.51500809120331\n"
          ]
        }
      ],
      "source": [
        "# Begin by importing the necessary libraries, numpy.\n",
        "# Use the open() function to open csv file and assign the result to a variable.\n",
        "# Use the numpy array to perform some basic statistical analysis on the data, such as finding the mean, median, and standard deviation of the loan amounts.\n",
        "# Note:\n",
        "\n",
        "# Be sure to close the file after you have finished reading it in with the open() function.\n",
        "# Use the delimiter parameter in the genfromtxt() function to specify that the values in the file are separated by commas.\n",
        "# You can use the numpy functions mean(), median(), and std() to find the mean, median, and standard deviation of the loan amounts.\n",
        "\n",
        "import csv\n",
        "import numpy as np\n",
        "\n",
        "csv_file = open('/content/Loan_prediction_dataset.csv', 'r')\n",
        "data = np.genfromtxt(csv_file, delimiter=',', skip_header=1, dtype=str)\n",
        "csv_file.close()\n",
        "\n",
        "# Find the mean, median, and standard deviation of the loan amounts.\n",
        "loan_amounts = data[:, 8]\n",
        "\n",
        "numeric_loan_amounts = [float(x) for x in loan_amounts if x.isnumeric()]\n",
        "\n",
        "mean_loan_amount = np.mean(numeric_loan_amounts)\n",
        "median_loan_amount = np.median(numeric_loan_amounts)\n",
        "std_loan_amount = np.std(numeric_loan_amounts)\n",
        "\n",
        "print(f'The mean of Loan Amounts is {mean_loan_amount}')\n",
        "print(f'The median of Loan Amounts is {median_loan_amount}')\n",
        "print(f'The standard deviation of Loan Amounts is {std_loan_amount}')"
      ]
    },
    {
      "cell_type": "code",
      "source": [],
      "metadata": {
        "id": "T8RzW5IAtjlQ"
      },
      "execution_count": null,
      "outputs": []
    }
  ]
}