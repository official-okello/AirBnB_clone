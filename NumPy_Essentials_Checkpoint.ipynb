{
  "nbformat": 4,
  "nbformat_minor": 0,
  "metadata": {
    "colab": {
      "provenance": [],
      "authorship_tag": "ABX9TyOXu1266YpvzLDcfjy0SiEy",
      "include_colab_link": true
    },
    "kernelspec": {
      "name": "python3",
      "display_name": "Python 3"
    },
    "language_info": {
      "name": "python"
    }
  },
  "cells": [
    {
      "cell_type": "markdown",
      "metadata": {
        "id": "view-in-github",
        "colab_type": "text"
      },
      "source": [
        "<a href=\"https://colab.research.google.com/github/official-okello/AirBnB_clone/blob/master/NumPy_Essentials_Checkpoint.ipynb\" target=\"_parent\"><img src=\"https://colab.research.google.com/assets/colab-badge.svg\" alt=\"Open In Colab\"/></a>"
      ]
    },
    {
      "cell_type": "code",
      "execution_count": null,
      "metadata": {
        "colab": {
          "base_uri": "https://localhost:8080/"
        },
        "id": "HknqLiEYYXSl",
        "outputId": "d2268e88-b1bd-4faf-e96d-e0fa165e6a38"
      },
      "outputs": [
        {
          "output_type": "stream",
          "name": "stdout",
          "text": [
            "The mean of the array [85 90 88 92 95 80 75 98 89 83] is 87.5\n",
            "The median of the array [85 90 88 92 95 80 75 98 89 83] is 88.5\n",
            "The standard deviation of the array [85 90 88 92 95 80 75 98 89 83] is 6.591661399070799\n",
            "The maximum of the array [85 90 88 92 95 80 75 98 89 83] is 98\n",
            "The minimum of the array [85 90 88 92 95 80 75 98 89 83] is 75\n",
            "The sorted array [85 90 88 92 95 80 75 98 89 83] is [75 80 83 85 88 89 90 92 95 98]\n",
            "The index of the highest grade in the array [85 90 88 92 95 80 75 98 89 83] is 7\n",
            "The number of students who scored above 90 is 3\n",
            "The percentage of students who scored above 90 is 30.0\n",
            "The percentage of students who scored less than 75 is 0.0\n",
            "The high performers are [92 95 98]\n",
            "The passing grades are [85 90 88 92 95 80 98 89 83]\n",
            "The sum of the array [85 90 88 92 95 80 75 98 89 83] is 875\n",
            "The product of the array [85 90 88 92 95 80 75 98 89 83] is 7109731725298448384\n",
            "The cumulative sum of the array [85 90 88 92 95 80 75 98 89 83] is [ 85 175 263 355 450 530 605 703 792 875]\n",
            "The cumulative product of the array [85 90 88 92 95 80 75 98 89 83] is [                 85                7650              673200\n",
            "            61934400          5883768000        470701440000\n",
            "      35302608000000    3459655584000000  307909346976000000\n",
            " 7109731725298448384]\n",
            "The difference of the array [85 90 88 92 95 80 75 98 89 83] is [  5  -2   4   3 -15  -5  23  -9  -6]\n",
            "The unique values of the array [85 90 88 92 95 80 75 98 89 83] are [75 80 83 85 88 89 90 92 95 98]\n",
            "The number of elements in the array [85 90 88 92 95 80 75 98 89 83] is 10\n",
            "The shape of the array [85 90 88 92 95 80 75 98 89 83] is (10,)\n",
            "The transpose of the array [85 90 88 92 95 80 75 98 89 83] is [85 90 88 92 95 80 75 98 89 83]\n",
            "The diagonal of the array [85 90 88 92 95 80 75 98 89 83] is [[85  0  0  0  0  0  0  0  0  0]\n",
            " [ 0 90  0  0  0  0  0  0  0  0]\n",
            " [ 0  0 88  0  0  0  0  0  0  0]\n",
            " [ 0  0  0 92  0  0  0  0  0  0]\n",
            " [ 0  0  0  0 95  0  0  0  0  0]\n",
            " [ 0  0  0  0  0 80  0  0  0  0]\n",
            " [ 0  0  0  0  0  0 75  0  0  0]\n",
            " [ 0  0  0  0  0  0  0 98  0  0]\n",
            " [ 0  0  0  0  0  0  0  0 89  0]\n",
            " [ 0  0  0  0  0  0  0  0  0 83]]\n",
            "The reshape of the array [85 90 88 92 95 80 75 98 89 83] to a 2 by 5 is [[85 90 88 92 95]\n",
            " [80 75 98 89 83]]\n",
            "The resize of the array [85 90 88 92 95 80 75 98 89 83] to a 2 by 5 is [[85 90 88 92 95]\n",
            " [80 75 98 89 83]]\n",
            "The sort of the array [85 90 88 92 95 80 75 98 89 83] is [75 80 83 85 88 89 90 92 95 98]\n",
            "The argsort of the array [85 90 88 92 95 80 75 98 89 83] is [6 5 9 0 2 8 1 3 4 7]\n",
            "The locations of grades above 90 of the array [85 90 88 92 95 80 75 98 89 83] is (array([3, 4, 7]),)\n",
            "The locations of grades below 75 of the array [85 90 88 92 95 80 75 98 89 83] is (array([], dtype=int64),)\n",
            "The locations of grades above 90 and below 75 of the array [85 90 88 92 95 80 75 98 89 83] is (array([], dtype=int64),)\n",
            "The locations of grades above 90 or below 75 of the array [85 90 88 92 95 80 75 98 89 83] is (array([3, 4, 7]),)\n"
          ]
        }
      ],
      "source": [
        "# Create a numpy array called \"grades\" that contains the following grades: [85, 90, 88, 92, 95, 80, 75, 98, 89, 83]\n",
        "\n",
        "# Import the numpy library and create the \"grades\" array as specified above.\n",
        "import numpy as np\n",
        "\n",
        "grades = np.array([85, 90, 88, 92, 95, 80, 75, 98, 89, 83])\n",
        "# Use numpy functions to calculate the mean, median, and standard deviation of the grades.\n",
        "print(f'The mean of the array {grades} is {np.mean(grades)}')\n",
        "print(f'The median of the array {grades} is {np.median(grades)}')\n",
        "print(f'The standard deviation of the array {grades} is {np.std(grades)}')\n",
        "\n",
        "# Use numpy function to find the maximum and minimum of the grades.\n",
        "print(f'The maximum of the array {grades} is {np.max(grades)}')\n",
        "print(f'The minimum of the array {grades} is {np.min(grades)}')\n",
        "\n",
        "# Use numpy function to sort the grades in ascending order.\n",
        "print(f'The sorted array {grades} is {np.sort(grades)}')\n",
        "\n",
        "# Use numpy function to find the index of the highest grade in the array.\n",
        "print(f'The index of the highest grade in the array {grades} is {np.argmax(grades)}')\n",
        "\n",
        "# Use numpy function to count the number of students who scored above 90.\n",
        "print(f'The number of students who scored above 90 is {np.sum(grades > 90)}')\n",
        "\n",
        "# Use numpy function to calculate the percentage of students who scored above 90.\n",
        "print(f'The percentage of students who scored above 90 is {np.mean(grades > 90) * 100}')\n",
        "\n",
        "# Use numpy function to calculate the percentage of students who scored below 75.\n",
        "print(f'The percentage of students who scored less than 75 is {np.mean(grades < 75) * 100}')\n",
        "\n",
        "# Use numpy function to extract all the grades above 90 and put them in a new array called \"high_performers\".\n",
        "high_performers = grades[grades > 90]\n",
        "print(f'The high performers are {high_performers}')\n",
        "\n",
        "# Use numpy function to extract all the grades above 75 and put them in a new array called \"passing_grades\".\n",
        "passing_grades = grades[grades > 75]\n",
        "print(f'The passing grades are {passing_grades}')\n",
        "\n",
        "# You can use other numpy functions as well to analyze the data as you want. The above steps are just examples of what can be done.\n",
        "print(f'The sum of the array {grades} is {np.sum(grades)}')\n",
        "print(f'The product of the array {grades} is {np.prod(grades)}')\n",
        "print(f'The cumulative sum of the array {grades} is {np.cumsum(grades)}')\n",
        "print(f'The cumulative product of the array {grades} is {np.cumprod(grades)}')\n",
        "print(f'The difference of the array {grades} is {np.diff(grades)}')\n",
        "print(f'The unique values of the array {grades} are {np.unique(grades)}')\n",
        "print(f'The number of elements in the array {grades} is {np.size(grades)}')\n",
        "print(f'The shape of the array {grades} is {np.shape(grades)}')\n",
        "print(f'The transpose of the array {grades} is {np.transpose(grades)}')\n",
        "print(f'The diagonal of the array {grades} is {np.diag(grades)}')\n",
        "# print(f'The flatten array {grades} to a 1D is {np.flatten(grades)}')\n",
        "print(f'The reshape of the array {grades} to a 2 by 5 is {np.reshape(grades, (2, 5))}')\n",
        "print(f'The resize of the array {grades} to a 2 by 5 is {np.resize(grades, (2, 5))}')\n",
        "print(f'The sort of the array {grades} is {np.sort(grades)}')\n",
        "print(f'The argsort of the array {grades} is {np.argsort(grades)}')\n",
        "print(f'The locations of grades above 90 of the array {grades} is {np.where(grades > 90)}')\n",
        "print(f'The locations of grades below 75 of the array {grades} is {np.where(grades < 75)}')\n",
        "print(f'The locations of grades above 90 and below 75 of the array {grades} is {np.where((grades > 90) & (grades < 75))}')\n",
        "print(f'The locations of grades above 90 or below 75 of the array {grades} is {np.where((grades > 90) | (grades < 75))}')"
      ]
    }
  ]
}