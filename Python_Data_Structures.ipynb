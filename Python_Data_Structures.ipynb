{
  "nbformat": 4,
  "nbformat_minor": 0,
  "metadata": {
    "colab": {
      "provenance": [],
      "authorship_tag": "ABX9TyM0Z0E0+lqWxRD4vpxECZ6k",
      "include_colab_link": true
    },
    "kernelspec": {
      "name": "python3",
      "display_name": "Python 3"
    },
    "language_info": {
      "name": "python"
    }
  },
  "cells": [
    {
      "cell_type": "markdown",
      "metadata": {
        "id": "view-in-github",
        "colab_type": "text"
      },
      "source": [
        "<a href=\"https://colab.research.google.com/github/official-okello/AirBnB_clone/blob/master/Python_Data_Structures.ipynb\" target=\"_parent\"><img src=\"https://colab.research.google.com/assets/colab-badge.svg\" alt=\"Open In Colab\"/></a>"
      ]
    },
    {
      "cell_type": "code",
      "execution_count": null,
      "metadata": {
        "colab": {
          "base_uri": "https://localhost:8080/"
        },
        "id": "p9L2DOa_5wHF",
        "outputId": "28b20618-c08e-4473-b657-5788e91af2e7"
      },
      "outputs": [
        {
          "output_type": "stream",
          "name": "stdout",
          "text": [
            "36\n"
          ]
        }
      ],
      "source": [
        "# Question 1  :\n",
        "# Write a Python program that multiplies all the items in a list.\n",
        "# Sample list= [2, 3, 6]\n",
        "# Result = 36\n",
        "\n",
        "list1 = [2,3,6]\n",
        "res = 1\n",
        "for i in list1:\n",
        "  res *= i\n",
        "print(res)"
      ]
    },
    {
      "cell_type": "code",
      "source": [
        "# Question 2\n",
        "# Write a Python program to get a list, sorted in increasing order by the last element in each tuple, from a given list of non-empty tuples.\n",
        "# Sample List : [(2, 5), (1, 2), (4, 4), (2, 3), (2, 1)]\n",
        "# Expected result : [(2, 1), (1, 2), (2, 3), (4, 4), (2, 5)]\n",
        "# Hint: You can use the sort function.\n",
        "\n",
        "list2 = [(2, 5), (1, 2), (4, 4), (2, 3), (2, 1)]\n",
        "list2.sort(key = lambda x:x[-1])\n",
        "print(list2)\n",
        "\n",
        "\n",
        "#alternative code\n",
        "# def last_element(x):\n",
        "#   return x[-1]\n",
        "\n",
        "# list2.sort(key = last_element)\n",
        "# print(list2)"
      ],
      "metadata": {
        "colab": {
          "base_uri": "https://localhost:8080/"
        },
        "id": "usEw94UQS3mC",
        "outputId": "6435a62a-6f46-4544-9103-9b4c5ce79b36"
      },
      "execution_count": null,
      "outputs": [
        {
          "output_type": "stream",
          "name": "stdout",
          "text": [
            "[(2, 1), (1, 2), (2, 3), (4, 4), (2, 5)]\n"
          ]
        }
      ]
    },
    {
      "cell_type": "code",
      "source": [
        "# Question 3\n",
        "# Write a Python program that combines two dictionaries by adding values for common keys.\n",
        "# d1 = {'a': 100, 'b': 200, 'c':300}\n",
        "# d2 = {'a': 300, 'b': 200, 'd':400}\n",
        "# Expected result: {'a': 400, 'b': 400, 'd': 400, 'c': 300}\n",
        "\n",
        "d1 = {'a': 100, 'b': 200, 'c':300}\n",
        "d2 = {'a': 300, 'b': 200, 'd':400}\n",
        "\n",
        "for k in d2:\n",
        "  if k in d1:\n",
        "    d1[k] = d1[k] + d2[k]\n",
        "  else:\n",
        "    d1[k] = d2[k]\n",
        "print(d1)"
      ],
      "metadata": {
        "colab": {
          "base_uri": "https://localhost:8080/"
        },
        "id": "ri_vXujxw0y-",
        "outputId": "6a0012ae-1cb8-46fb-a1ca-eb54e1ff49b9"
      },
      "execution_count": null,
      "outputs": [
        {
          "output_type": "stream",
          "name": "stdout",
          "text": [
            "{'a': 400, 'b': 400, 'c': 300, 'd': 400}\n"
          ]
        }
      ]
    },
    {
      "cell_type": "code",
      "source": [
        "# Question 4\n",
        "# With a given integral number n, write a program to generate a dictionary that contains (i, i*i) so that is an integral number between 1 and n (both included).\n",
        "#Then the program should print the dictionary. Suppose the following input is supplied to the program: 8.\n",
        "#Then, the output should be: {1: 1, 2: 4, 3: 9, 4: 16, 5: 25, 6: 36, 7: 49, 8: 64}\n",
        "n = int(input('Enter a number n: '))\n",
        "dict1 = {i:i*i for i in range(1, n+1)}\n",
        "print(dict1)"
      ],
      "metadata": {
        "colab": {
          "base_uri": "https://localhost:8080/"
        },
        "id": "qIGo6M0Fw5mi",
        "outputId": "423a54dc-9c80-4e82-8369-72c97db0fea9"
      },
      "execution_count": null,
      "outputs": [
        {
          "output_type": "stream",
          "name": "stdout",
          "text": [
            "Enter a number n: 10\n",
            "{1: 1, 2: 4, 3: 9, 4: 16, 5: 25, 6: 36, 7: 49, 8: 64, 9: 81, 10: 100}\n"
          ]
        }
      ]
    },
    {
      "cell_type": "code",
      "source": [
        "# Question 5\n",
        "# Write a program to sort a tuple by its float element.\n",
        "# For example: list= [('item1', '12.20'), ('item2', '15.10'), ('item3', '24.5')]\n",
        "# Expected result: [('item3', '24.5'), ('item2', '15.10'), ('item1', '12.20')]\n",
        "\n",
        "list3 = [('item1', '12.20'), ('item2', '15.10'), ('item3', '24.5')]\n",
        "list3.sort(key = lambda x:float(x[-1]), reverse = True)\n",
        "print(list3)"
      ],
      "metadata": {
        "colab": {
          "base_uri": "https://localhost:8080/"
        },
        "id": "za4PB7yv4-rT",
        "outputId": "6911be55-ed70-44e6-9211-2a3199cbcdf5"
      },
      "execution_count": null,
      "outputs": [
        {
          "output_type": "stream",
          "name": "stdout",
          "text": [
            "[('item3', '24.5'), ('item2', '15.10'), ('item1', '12.20')]\n"
          ]
        }
      ]
    },
    {
      "cell_type": "code",
      "source": [
        "# Question 6\n",
        "# Write a Python program to create a set.\n",
        "# Examples : {0, 1, 2, 3, 4}\n",
        "# Write a Python program to iteration over sets.\n",
        "# Write a Python program to add members in a set and to remove items from a given set.\n",
        "\n",
        "set1 = set([0,1,2,3,4])\n",
        "\n",
        "for i in set1:\n",
        "  print(i)\n",
        "\n",
        "set1.add(5)\n",
        "print(set1)\n",
        "\n",
        "set1.remove(5)\n",
        "print(set1)"
      ],
      "metadata": {
        "colab": {
          "base_uri": "https://localhost:8080/"
        },
        "id": "lkfxd9Xs5Ddm",
        "outputId": "3cf7d1c6-f08d-4e10-cef2-51db9ed34ad8"
      },
      "execution_count": null,
      "outputs": [
        {
          "output_type": "stream",
          "name": "stdout",
          "text": [
            "0\n",
            "1\n",
            "2\n",
            "3\n",
            "4\n",
            "{0, 1, 2, 3, 4, 5}\n",
            "{0, 1, 2, 3, 4}\n"
          ]
        }
      ]
    }
  ]
}