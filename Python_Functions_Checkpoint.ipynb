{
  "nbformat": 4,
  "nbformat_minor": 0,
  "metadata": {
    "colab": {
      "provenance": [],
      "authorship_tag": "ABX9TyNU9RxroBDSOY11a5k0VwJl",
      "include_colab_link": true
    },
    "kernelspec": {
      "name": "python3",
      "display_name": "Python 3"
    },
    "language_info": {
      "name": "python"
    }
  },
  "cells": [
    {
      "cell_type": "markdown",
      "metadata": {
        "id": "view-in-github",
        "colab_type": "text"
      },
      "source": [
        "<a href=\"https://colab.research.google.com/github/official-okello/AirBnB_clone/blob/master/Python_Functions_Checkpoint.ipynb\" target=\"_parent\"><img src=\"https://colab.research.google.com/assets/colab-badge.svg\" alt=\"Open In Colab\"/></a>"
      ]
    },
    {
      "cell_type": "code",
      "execution_count": null,
      "metadata": {
        "id": "4yVCEtyYSn2C"
      },
      "outputs": [],
      "source": [
        "# Open a new Python file in your preferred code editor.\n",
        "# Define a function called \"calculator\" that takes two arguments, \"num1\" and \"num2\".\n",
        "# Within the function, prompt the user to enter an operator (+, -, *, /).\n",
        "# Use conditional statements to determine which operation to perform based on the user's input.\n",
        "# Return the result of the operation.\n",
        "# Call the function calculator with two numbers and print the result.\n",
        "# Handle cases where the user inputs invalid operators or tries to divide by zero."
      ]
    },
    {
      "cell_type": "code",
      "source": [
        "def calculator(num1, num2):\n",
        "    while True:\n",
        "        operator = input(\"Enter an operator (+, -, *, /): \")\n",
        "\n",
        "        if operator == '+':\n",
        "            return num1 + num2\n",
        "        elif operator == '-':\n",
        "            return num1 - num2\n",
        "        elif operator == '*':\n",
        "            return num1 * num2\n",
        "        elif operator == '/':\n",
        "            if num2 != 0:\n",
        "                return num1 / num2\n",
        "            else:\n",
        "                return \"Error: Division by zero is not allowed.\"\n",
        "        else:\n",
        "            print(\"Invalid operator. Please enter one of +, -, *, /.\")"
      ],
      "metadata": {
        "id": "Manj70q5S-35"
      },
      "execution_count": null,
      "outputs": []
    },
    {
      "cell_type": "code",
      "source": [
        "calculator(16, 10)"
      ],
      "metadata": {
        "colab": {
          "base_uri": "https://localhost:8080/"
        },
        "id": "wWueptUSTrUg",
        "outputId": "c7060bb1-177a-46d7-f821-623bd5b75769"
      },
      "execution_count": null,
      "outputs": [
        {
          "name": "stdout",
          "output_type": "stream",
          "text": [
            "Enter an operator (+, -, *, /): 4\n",
            "Invalid operator. Please enter one of +, -, *, /.\n",
            "Enter an operator (+, -, *, /): -\n"
          ]
        },
        {
          "output_type": "execute_result",
          "data": {
            "text/plain": [
              "6"
            ]
          },
          "metadata": {},
          "execution_count": 6
        }
      ]
    }
  ]
}